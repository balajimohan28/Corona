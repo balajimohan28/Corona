{
 "cells": [
  {
   "cell_type": "markdown",
   "metadata": {},
   "source": [
    "# Corona Daily Death Report"
   ]
  },
  {
   "cell_type": "markdown",
   "metadata": {},
   "source": [
    "#### Submitted by\n",
    "###### Balaji Mohan\n",
    "###### balajimohan28@gmail.com\n",
    "###### 040 349 2407"
   ]
  },
  {
   "cell_type": "markdown",
   "metadata": {},
   "source": [
    "#### 1. Python: Download a timeseries of daily deaths per country\n",
    "Datasets are downloaded and loaded into the corresponding work directory folder."
   ]
  },
  {
   "cell_type": "markdown",
   "metadata": {},
   "source": [
    "#### 2. Python: Convert the table so that each country and each day is a separate row"
   ]
  },
  {
   "cell_type": "code",
   "execution_count": 208,
   "metadata": {},
   "outputs": [],
   "source": [
    "import pandas as pd\n",
    "import sqlite3\n",
    "deaths_total_csv = pd.read_csv(\"time_series_covid19_deaths_global.csv\")\n",
    "deaths_total_df = pd.DataFrame()\n",
    "deaths_total_df = deaths_total_csv.melt(id_vars=[\"Province/State\", \"Country/Region\", \"Lat\", \"Long\"], \n",
    "        var_name=\"Date_value\", \n",
    "        value_name=\"Death_Value\")\n",
    "deaths_total_df['Date_value'] = pd.to_datetime(deaths_total_df['Date_value'])\n",
    "deaths_total_df.rename(columns = {'Province/State':'Province_State', 'Country/Region':'Country_Region', 'Long':'Longitude'}, inplace = True) \n",
    "deaths_total_df = deaths_total_df.sort_values(by=[\"Country_Region\", \"Date_value\"])\n",
    "deaths_total_df.reset_index(drop=True)\n",
    "deaths_total_df['id'] = range(1, len(deaths_total_df) + 1)\n",
    "#deaths_total_df.head(2)"
   ]
  },
  {
   "cell_type": "markdown",
   "metadata": {},
   "source": [
    "#### 3. Python: Provide code to upload the table from step 3 into an SQL table named deaths_total"
   ]
  },
  {
   "cell_type": "code",
   "execution_count": 209,
   "metadata": {},
   "outputs": [
    {
     "name": "stdout",
     "output_type": "stream",
     "text": [
      "<class 'sqlite3.Cursor'>\n"
     ]
    }
   ],
   "source": [
    "conn = sqlite3.connect('Corona.db')\n",
    "c = conn.cursor()\n",
    "c.execute('CREATE TABLE deaths_total (Province_State text, Country_Region text, Lat float, Longitude float, Date_value Date, Death_Value int, id int)')\n",
    "conn.commit()\n",
    "deaths_total_df.to_sql('deaths_total', conn, if_exists='replace', index = False)\n",
    " \n",
    "deaths_total = c.execute('''  \n",
    "SELECT * FROM deaths_total\n",
    "''')\n",
    "\n",
    "print(type(deaths_total))\n",
    "# for row in c.execute('SELECT * FROM deaths_total'):\n",
    "#     print(row)\n"
   ]
  },
  {
   "cell_type": "code",
   "execution_count": 207,
   "metadata": {},
   "outputs": [
    {
     "data": {
      "text/plain": [
       "<sqlite3.Cursor at 0x294e477a960>"
      ]
     },
     "execution_count": 207,
     "metadata": {},
     "output_type": "execute_result"
    }
   ],
   "source": [
    "#c.execute('DROP TABLE deaths_total')"
   ]
  },
  {
   "cell_type": "markdown",
   "metadata": {},
   "source": [
    "#### 4. Python: From the data in step 2, calculate the daily change in deaths for each country"
   ]
  },
  {
   "cell_type": "code",
   "execution_count": 210,
   "metadata": {},
   "outputs": [],
   "source": [
    "deaths_change = pd.DataFrame()\n",
    "deaths_change = deaths_total_df\n",
    "\n",
    "country = deaths_change['Country_Region'].tolist()\n",
    "value = deaths_change['Death_Value'].tolist()\n",
    "daily_change_value = []\n",
    "flag = 0\n",
    "for i in range(len(country)):\n",
    "    if i+1 < len(country): \n",
    "        if country[i] == country[i+1]:\n",
    "            if flag == 0:\n",
    "                current_value = value[i]\n",
    "            else:\n",
    "                current_value = value[i] - value[i-1]\n",
    "            flag = 1\n",
    "        else:\n",
    "            flag = 0\n",
    "            current_value = value[i] - value[i-1]\n",
    "        daily_change_value.append(current_value)   \n",
    "    else:\n",
    "        current_value = value[i] - value[i-1]\n",
    "        daily_change_value.append(current_value)\n",
    "        \n",
    "deaths_change['daily_change_value'] = daily_change_value\n",
    "\n",
    "#deaths_change.to_csv(\"Final.csv\")\n",
    "#print(deaths_change)"
   ]
  },
  {
   "cell_type": "markdown",
   "metadata": {},
   "source": [
    "#### 5. Python: Provide code to upload the table from step 4 into an SQL table named deaths_change_python"
   ]
  },
  {
   "cell_type": "code",
   "execution_count": 212,
   "metadata": {},
   "outputs": [
    {
     "name": "stdout",
     "output_type": "stream",
     "text": [
      "<class 'sqlite3.Cursor'>\n"
     ]
    }
   ],
   "source": [
    "# conn = sqlite3.connect('Corona.db')\n",
    "# c = conn.cursor()\n",
    "c.execute('CREATE TABLE deaths_change_python (Province_State text, Country_Region text, Lat float, Longitude float, Date_value Date, Death_Value int, daily_change_value int, id int)')\n",
    "conn.commit()\n",
    "deaths_change.to_sql('deaths_change_python', conn, if_exists='replace', index = False)\n",
    " \n",
    "deaths_change_python = c.execute('''  \n",
    "SELECT * FROM deaths_change_python\n",
    "''')\n",
    "\n",
    "print(type(deaths_change_python))\n",
    "# for row in c.execute('SELECT * FROM deaths_change_python'):\n",
    "#     print(row)\n"
   ]
  },
  {
   "cell_type": "code",
   "execution_count": 211,
   "metadata": {},
   "outputs": [
    {
     "data": {
      "text/plain": [
       "<sqlite3.Cursor at 0x294e478f810>"
      ]
     },
     "execution_count": 211,
     "metadata": {},
     "output_type": "execute_result"
    }
   ],
   "source": [
    "#c.execute('DROP TABLE deaths_change_python')"
   ]
  },
  {
   "cell_type": "markdown",
   "metadata": {},
   "source": [
    "#### 6. SQL: Provide SQL code to calculate the daily change for each country using only the data from deaths_total and save it into an SQL table named deaths_change_sql"
   ]
  },
  {
   "cell_type": "code",
   "execution_count": 214,
   "metadata": {},
   "outputs": [
    {
     "name": "stdout",
     "output_type": "stream",
     "text": [
      "<class 'sqlite3.Cursor'>\n"
     ]
    }
   ],
   "source": [
    "# conn = sqlite3.connect('Corona.db')\n",
    "# c = conn.cursor()\n",
    "c.execute('CREATE TABLE deaths_change_sql (Province_State text, Country_Region text, Lat float, Longitude float, Date_value Date, Death_Value int, daily_change_value int, id int)')\n",
    "conn.commit()\n",
    "deaths_change.to_sql('deaths_change_sql', conn, if_exists='replace', index = False)\n",
    "deaths_change_sql = c.execute('''  \n",
    "SELECT a.id, a.Country_Region, a.Province_State, a.Lat, a.Longitude, a.Date_value, a.Death_Value,\n",
    " CASE\n",
    "   WHEN a.id = 1 THEN a.Death_Value\n",
    "   ELSE (a.Death_Value - IFNULL((SELECT sum(b.Death_Value) from deaths_total b\n",
    "          WHERE b.id = a.id - 1\n",
    "          AND b.Country_Region = a.Country_Region\n",
    "         -- AND b.Date_value = b.Date_value\n",
    "          AND b.Date_value between b.Date_value and a.Date_value\n",
    "          GROUP BY b.Country_Region,b.Date_value),0) ) END as daily_change_val\n",
    "FROM deaths_total a\n",
    "WHERE a.Country_Region = a.Country_Region;\n",
    "''')\n",
    "\n",
    "print(type(deaths_change_sql))\n",
    "# for row in c.execute('SELECT * FROM deaths_change_sql'):\n",
    "#     print(row)\n"
   ]
  },
  {
   "cell_type": "code",
   "execution_count": 213,
   "metadata": {},
   "outputs": [
    {
     "ename": "OperationalError",
     "evalue": "no such table: deaths_change_sql",
     "output_type": "error",
     "traceback": [
      "\u001b[1;31m---------------------------------------------------------------------------\u001b[0m",
      "\u001b[1;31mOperationalError\u001b[0m                          Traceback (most recent call last)",
      "\u001b[1;32m<ipython-input-213-5751170ac993>\u001b[0m in \u001b[0;36m<module>\u001b[1;34m\u001b[0m\n\u001b[1;32m----> 1\u001b[1;33m \u001b[0mc\u001b[0m\u001b[1;33m.\u001b[0m\u001b[0mexecute\u001b[0m\u001b[1;33m(\u001b[0m\u001b[1;34m'DROP TABLE deaths_change_sql'\u001b[0m\u001b[1;33m)\u001b[0m\u001b[1;33m\u001b[0m\u001b[1;33m\u001b[0m\u001b[0m\n\u001b[0m",
      "\u001b[1;31mOperationalError\u001b[0m: no such table: deaths_change_sql"
     ]
    }
   ],
   "source": [
    "#c.execute('DROP TABLE deaths_change_sql')"
   ]
  },
  {
   "cell_type": "code",
   "execution_count": null,
   "metadata": {},
   "outputs": [],
   "source": []
  }
 ],
 "metadata": {
  "kernelspec": {
   "display_name": "Python 3",
   "language": "python",
   "name": "python3"
  },
  "language_info": {
   "codemirror_mode": {
    "name": "ipython",
    "version": 3
   },
   "file_extension": ".py",
   "mimetype": "text/x-python",
   "name": "python",
   "nbconvert_exporter": "python",
   "pygments_lexer": "ipython3",
   "version": "3.7.3"
  }
 },
 "nbformat": 4,
 "nbformat_minor": 2
}
